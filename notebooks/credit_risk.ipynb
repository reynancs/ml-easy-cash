{
 "cells": [
  {
   "attachments": {},
   "cell_type": "markdown",
   "metadata": {},
   "source": [
    "***\n",
    "# Easy Cash - Credit Risk Classification\n",
    "> **Descrição**: Projeto de Classificação com Machine Learning aplicado em Análise de Risco de Crédito de um banco, afim de, identificar possíveis inadimplentes.\n",
    "\n",
    "***"
   ]
  },
  {
   "attachments": {},
   "cell_type": "markdown",
   "metadata": {},
   "source": [
    "## 1. BUSINESS UNDERSTANDING"
   ]
  },
  {
   "attachments": {},
   "cell_type": "markdown",
   "metadata": {},
   "source": [
    "## 2. DATA UNDERSTANDING"
   ]
  },
  {
   "cell_type": "code",
   "execution_count": 47,
   "metadata": {},
   "outputs": [],
   "source": [
    "# Import libraries\n",
    "import pandas as pd\n",
    "import numpy as np\n",
    "import matplotlib.pyplot as plt\n",
    "plt.rc('figure', figsize = (12,6))"
   ]
  },
  {
   "attachments": {},
   "cell_type": "markdown",
   "metadata": {},
   "source": [
    "### Carregando os dados"
   ]
  },
  {
   "cell_type": "code",
   "execution_count": 48,
   "metadata": {},
   "outputs": [
    {
     "data": {
      "text/html": [
       "<div>\n",
       "<style scoped>\n",
       "    .dataframe tbody tr th:only-of-type {\n",
       "        vertical-align: middle;\n",
       "    }\n",
       "\n",
       "    .dataframe tbody tr th {\n",
       "        vertical-align: top;\n",
       "    }\n",
       "\n",
       "    .dataframe thead th {\n",
       "        text-align: right;\n",
       "    }\n",
       "</style>\n",
       "<table border=\"1\" class=\"dataframe\">\n",
       "  <thead>\n",
       "    <tr style=\"text-align: right;\">\n",
       "      <th></th>\n",
       "      <th>person_age</th>\n",
       "      <th>person_income</th>\n",
       "      <th>person_home_ownership</th>\n",
       "      <th>person_emp_length</th>\n",
       "      <th>loan_intent</th>\n",
       "      <th>loan_grade</th>\n",
       "      <th>loan_amnt</th>\n",
       "      <th>loan_int_rate</th>\n",
       "      <th>loan_status</th>\n",
       "      <th>loan_percent_income</th>\n",
       "      <th>cb_person_default_on_file</th>\n",
       "      <th>cb_person_cred_hist_length</th>\n",
       "    </tr>\n",
       "  </thead>\n",
       "  <tbody>\n",
       "    <tr>\n",
       "      <th>0</th>\n",
       "      <td>21.0</td>\n",
       "      <td>60000.0</td>\n",
       "      <td>Rent</td>\n",
       "      <td>2.0</td>\n",
       "      <td>Education</td>\n",
       "      <td>B</td>\n",
       "      <td>8000.0</td>\n",
       "      <td>11.26</td>\n",
       "      <td>0.0</td>\n",
       "      <td>0.13</td>\n",
       "      <td>N</td>\n",
       "      <td>3.0</td>\n",
       "    </tr>\n",
       "    <tr>\n",
       "      <th>1</th>\n",
       "      <td>40.0</td>\n",
       "      <td>70000.0</td>\n",
       "      <td>Mortgage</td>\n",
       "      <td>6.0</td>\n",
       "      <td>Education</td>\n",
       "      <td>A</td>\n",
       "      <td>18000.0</td>\n",
       "      <td>7.90</td>\n",
       "      <td>0.0</td>\n",
       "      <td>0.26</td>\n",
       "      <td>N</td>\n",
       "      <td>14.0</td>\n",
       "    </tr>\n",
       "    <tr>\n",
       "      <th>2</th>\n",
       "      <td>29.0</td>\n",
       "      <td>115000.0</td>\n",
       "      <td>Mortgage</td>\n",
       "      <td>3.0</td>\n",
       "      <td>Medical</td>\n",
       "      <td>C</td>\n",
       "      <td>22000.0</td>\n",
       "      <td>15.23</td>\n",
       "      <td>0.0</td>\n",
       "      <td>0.19</td>\n",
       "      <td>Y</td>\n",
       "      <td>7.0</td>\n",
       "    </tr>\n",
       "    <tr>\n",
       "      <th>3</th>\n",
       "      <td>26.0</td>\n",
       "      <td>84996.0</td>\n",
       "      <td>Rent</td>\n",
       "      <td>0.0</td>\n",
       "      <td>Medical</td>\n",
       "      <td>B</td>\n",
       "      <td>9000.0</td>\n",
       "      <td>11.26</td>\n",
       "      <td>0.0</td>\n",
       "      <td>0.11</td>\n",
       "      <td>N</td>\n",
       "      <td>2.0</td>\n",
       "    </tr>\n",
       "    <tr>\n",
       "      <th>4</th>\n",
       "      <td>23.0</td>\n",
       "      <td>54500.0</td>\n",
       "      <td>Rent</td>\n",
       "      <td>2.0</td>\n",
       "      <td>Debtconsolidation</td>\n",
       "      <td>A</td>\n",
       "      <td>8000.0</td>\n",
       "      <td>NaN</td>\n",
       "      <td>0.0</td>\n",
       "      <td>0.15</td>\n",
       "      <td>N</td>\n",
       "      <td>2.0</td>\n",
       "    </tr>\n",
       "  </tbody>\n",
       "</table>\n",
       "</div>"
      ],
      "text/plain": [
       "   person_age  person_income person_home_ownership  person_emp_length  \\\n",
       "0        21.0        60000.0                  Rent                2.0   \n",
       "1        40.0        70000.0              Mortgage                6.0   \n",
       "2        29.0       115000.0              Mortgage                3.0   \n",
       "3        26.0        84996.0                  Rent                0.0   \n",
       "4        23.0        54500.0                  Rent                2.0   \n",
       "\n",
       "         loan_intent loan_grade  loan_amnt  loan_int_rate  loan_status  \\\n",
       "0          Education          B     8000.0          11.26          0.0   \n",
       "1          Education          A    18000.0           7.90          0.0   \n",
       "2            Medical          C    22000.0          15.23          0.0   \n",
       "3            Medical          B     9000.0          11.26          0.0   \n",
       "4  Debtconsolidation          A     8000.0            NaN          0.0   \n",
       "\n",
       "   loan_percent_income cb_person_default_on_file  cb_person_cred_hist_length  \n",
       "0                 0.13                         N                         3.0  \n",
       "1                 0.26                         N                        14.0  \n",
       "2                 0.19                         Y                         7.0  \n",
       "3                 0.11                         N                         2.0  \n",
       "4                 0.15                         N                         2.0  "
      ]
     },
     "execution_count": 48,
     "metadata": {},
     "output_type": "execute_result"
    }
   ],
   "source": [
    "dados = pd.read_csv('../data/raw/dados_unidos.csv')\n",
    "dados.head()"
   ]
  },
  {
   "attachments": {},
   "cell_type": "markdown",
   "metadata": {},
   "source": [
    "### Alterando a Descrição dos Dados e Colunas"
   ]
  },
  {
   "cell_type": "code",
   "execution_count": 49,
   "metadata": {},
   "outputs": [],
   "source": [
    "# Declarando dicionário para tradução das colunas (en -> pt)\n",
    "dict_col_name = {\n",
    "    'person_age': 'idade_usuario',\n",
    "    'person_income': 'salario_usuario',\n",
    "    'person_home_ownership': 'situacao_moradia_usuario',\n",
    "    'person_emp_length': 'tempo_de_trabalho_usuario',\n",
    "    'loan_intent': 'motivo_emprestimo',\n",
    "    'loan_grade': 'pontuacao_emprestimo',\n",
    "    'loan_amnt': 'valor_emprestimo',\n",
    "    'loan_int_rate': 'taxa_juros_emprestimo',\n",
    "    'loan_status': 'status_emprestimo',\n",
    "    'loan_percent_income': 'renda_percentual_emprestimo',\n",
    "    'cb_person_default_on_file': 'devendo',\n",
    "    'cb_person_cred_hist_length': 'tempo_de_credito'\n",
    "}\n",
    "\n",
    "# Renomeando Colunas (Axis = 1 -> Coluna)\n",
    "dados.rename(dict_col_name, axis= 1, inplace=True)"
   ]
  },
  {
   "cell_type": "code",
   "execution_count": 50,
   "metadata": {},
   "outputs": [],
   "source": [
    "# Declarando dicionário para tradução dos dados das colunas (en -> pt)\n",
    "dict_situacao_moradia = {\n",
    "    'Rent': 'Alugada',\n",
    "    'Own': 'Propria',\n",
    "    'Mortgage': 'Hipotecada',\n",
    "    'Other': 'Outros'\n",
    "}\n",
    "\n",
    "dict_motivo_emprestimo = {\n",
    "    'Personal':'Pessoal',\n",
    "    'Education': 'Educativo',\n",
    "    'Medical':'Medico',\n",
    "    'Venture':'Empreendimento',\n",
    "    'Homeimprovement': 'Melhoria do Lar',\n",
    "    'Debtconsolidation': 'Pagamento de Debitos'\n",
    "}\n",
    "\n",
    "# Renomeando dados das linhas (Axis = 0 -> Linha)\n",
    "dados.replace(dict_situacao_moradia, inplace=True)\n",
    "dados.replace(dict_motivo_emprestimo, inplace=True)"
   ]
  },
  {
   "attachments": {},
   "cell_type": "markdown",
   "metadata": {},
   "source": [
    "### Exploração dos Dados\n",
    "Neste Dataset, a coluna `status_emprestimo` mostra se o empréstimo está atualmente inadimplente = 1 e Não-Inadimplente= 0.\n",
    "\n",
    "No dataset tem mais colunas nos dados e muitas podem ter um relacionamento com os valores em `status_emprestimo`. Precisa explorar mais os dados e essas relações com uma análise mais aprofundada para entender o impacto dos dados nas inadimplências de empréstimos de crédito.\n",
    "\n",
    "Verificar a estrutura dos dados, bem como ver um fotografia, nos ajuda a entender melhor o que está dentro do conjunto. Da mesma forma, as visualizações fornecem uma visão de alto nível dos dados, além de tendências e padrões importantes.\n"
   ]
  },
  {
   "cell_type": "code",
   "execution_count": 51,
   "metadata": {},
   "outputs": [
    {
     "name": "stdout",
     "output_type": "stream",
     "text": [
      "Tamanho do Dataset: 34501\n"
     ]
    }
   ],
   "source": [
    "# Verificando a qtd de registros\n",
    "print(f'Tamanho do Dataset: {dados.shape[0]}')"
   ]
  },
  {
   "cell_type": "code",
   "execution_count": 52,
   "metadata": {},
   "outputs": [
    {
     "name": "stdout",
     "output_type": "stream",
     "text": [
      "A Taxa de Pessoas com histórico de inadimplência é de 17.59%\n"
     ]
    }
   ],
   "source": [
    "# Verificando a taxa de inadimplentes\n",
    "inadimplentes_perc = dados['devendo'].value_counts(normalize= True)\n",
    "print(f'A Taxa de Pessoas com histórico de inadimplência é de {(inadimplentes_perc[1] * 100).round(2)}%')"
   ]
  },
  {
   "cell_type": "code",
   "execution_count": 53,
   "metadata": {},
   "outputs": [
    {
     "name": "stdout",
     "output_type": "stream",
     "text": [
      "<class 'pandas.core.frame.DataFrame'>\n",
      "RangeIndex: 34501 entries, 0 to 34500\n",
      "Data columns (total 12 columns):\n",
      " #   Column                       Non-Null Count  Dtype  \n",
      "---  ------                       --------------  -----  \n",
      " 0   idade_usuario                34177 non-null  float64\n",
      " 1   salario_usuario              34162 non-null  float64\n",
      " 2   situacao_moradia_usuario     34170 non-null  object \n",
      " 3   tempo_de_trabalho_usuario    33247 non-null  float64\n",
      " 4   motivo_emprestimo            34186 non-null  object \n",
      " 5   pontuacao_emprestimo         34188 non-null  object \n",
      " 6   valor_emprestimo             34170 non-null  float64\n",
      " 7   taxa_juros_emprestimo        30871 non-null  float64\n",
      " 8   status_emprestimo            34158 non-null  float64\n",
      " 9   renda_percentual_emprestimo  34182 non-null  float64\n",
      " 10  devendo                      34131 non-null  object \n",
      " 11  tempo_de_credito             34497 non-null  float64\n",
      "dtypes: float64(8), object(4)\n",
      "memory usage: 3.2+ MB\n"
     ]
    }
   ],
   "source": [
    "# Verificando informações do dataset\n",
    "dados.info()"
   ]
  },
  {
   "attachments": {},
   "cell_type": "markdown",
   "metadata": {},
   "source": [
    "### Verificando a distribuição do valor de emprestimo"
   ]
  },
  {
   "cell_type": "code",
   "execution_count": 54,
   "metadata": {},
   "outputs": [
    {
     "data": {
      "image/png": "[encoded data removed]",
      "text/plain": [
       "<Figure size 1200x600 with 1 Axes>"
      ]
     },
     "metadata": {},
     "output_type": "display_data"
    }
   ],
   "source": [
    "# Olhando a distribuição do valor de emprestimo com um histograma\n",
    "n, bins, patches = plt.hist(x=dados['valor_emprestimo'], bins='auto', color='blue',alpha=0.7, rwidth=0.85)\n",
    "plt.xlabel(\"Valor Total do Emprestimo\")\n",
    "plt.show()"
   ]
  },
  {
   "attachments": {},
   "cell_type": "markdown",
   "metadata": {},
   "source": [
    "### Plotando um Scatter Plot \n",
    "Verificando a relação entre a variável independente (`idade_usuario`) e a variável dependente (`salario_usuario`)."
   ]
  },
  {
   "cell_type": "code",
   "execution_count": 55,
   "metadata": {},
   "outputs": [
    {
     "data": {
      "image/png": "[encoded data removed]",
      "text/plain": [
       "<Figure size 1200x600 with 1 Axes>"
      ]
     },
     "metadata": {},
     "output_type": "display_data"
    }
   ],
   "source": [
    "# Plotando um gráfico de dispersão entre a idade e o salário do usuário\n",
    "plt.scatter(x = dados['salario_usuario'], y = dados['idade_usuario'], c ='blue', alpha = 0.5)\n",
    "plt.xlabel('Salário do Usuário')\n",
    "plt.ylabel('Idade do Usuário')\n",
    "plt.show()"
   ]
  },
  {
   "attachments": {},
   "cell_type": "markdown",
   "metadata": {},
   "source": [
    "Já podemos ver uma correlação positiva com idade e renda, o que pode significar que essas pessoas mais velhos estão mais avançados em suas carreiras e, portanto, ganham salários mais altos. Também é possível identificar a presença de ***outiliers.***"
   ]
  },
  {
   "attachments": {},
   "cell_type": "markdown",
   "metadata": {},
   "source": [
    "### Análise Exploratória com Tabela Cruzada\n",
    "\n",
    "Dados Financeiros geralmente são visualizados em formato de tabelas parecidos com planilhas em excel, sendo assim, vamos usar o método  pd.crosstab() para visualizar melhor.\n",
    "\n",
    "Para a maioria dos modelos de risco de crédito, especialmente para probabilidade de inadimplência, colunas como `tempo_de_trabalho_usuario` e `moradia_usuario` são comuns para começar a investigar.\n",
    "\n",
    "Você poderá ver como os valores são preenchidos nos dados e visualizá-los. Por enquanto, você precisa verificar como o \"status_do_emprestimo\" é afetado por fatores como o status da moradiaa, o grau do empréstimo e a porcentagem da renda do empréstimo."
   ]
  },
  {
   "cell_type": "code",
   "execution_count": 56,
   "metadata": {},
   "outputs": [
    {
     "data": {
      "text/html": [
       "<div>\n",
       "<style scoped>\n",
       "    .dataframe tbody tr th:only-of-type {\n",
       "        vertical-align: middle;\n",
       "    }\n",
       "\n",
       "    .dataframe tbody tr th {\n",
       "        vertical-align: top;\n",
       "    }\n",
       "\n",
       "    .dataframe thead th {\n",
       "        text-align: right;\n",
       "    }\n",
       "</style>\n",
       "<table border=\"1\" class=\"dataframe\">\n",
       "  <thead>\n",
       "    <tr style=\"text-align: right;\">\n",
       "      <th>status_emprestimo</th>\n",
       "      <th>0.0</th>\n",
       "      <th>1.0</th>\n",
       "    </tr>\n",
       "    <tr>\n",
       "      <th>situacao_moradia_usuario</th>\n",
       "      <th></th>\n",
       "      <th></th>\n",
       "    </tr>\n",
       "  </thead>\n",
       "  <tbody>\n",
       "    <tr>\n",
       "      <th>Alugada</th>\n",
       "      <td>10.75</td>\n",
       "      <td>12.97</td>\n",
       "    </tr>\n",
       "    <tr>\n",
       "      <th>Hipotecada</th>\n",
       "      <td>10.06</td>\n",
       "      <td>13.42</td>\n",
       "    </tr>\n",
       "    <tr>\n",
       "      <th>Outros</th>\n",
       "      <td>11.41</td>\n",
       "      <td>13.74</td>\n",
       "    </tr>\n",
       "    <tr>\n",
       "      <th>Propria</th>\n",
       "      <td>10.75</td>\n",
       "      <td>12.32</td>\n",
       "    </tr>\n",
       "  </tbody>\n",
       "</table>\n",
       "</div>"
      ],
      "text/plain": [
       "status_emprestimo           0.0    1.0\n",
       "situacao_moradia_usuario              \n",
       "Alugada                   10.75  12.97\n",
       "Hipotecada                10.06  13.42\n",
       "Outros                    11.41  13.74\n",
       "Propria                   10.75  12.32"
      ]
     },
     "execution_count": 56,
     "metadata": {},
     "output_type": "execute_result"
    }
   ],
   "source": [
    "pd.crosstab(index=dados['situacao_moradia_usuario'], columns= dados['status_emprestimo'],\n",
    "            values=dados['taxa_juros_emprestimo'], aggfunc='mean').round(2)"
   ]
  },
  {
   "cell_type": "code",
   "execution_count": 59,
   "metadata": {},
   "outputs": [
    {
     "data": {
      "text/html": [
       "<div>\n",
       "<style scoped>\n",
       "    .dataframe tbody tr th:only-of-type {\n",
       "        vertical-align: middle;\n",
       "    }\n",
       "\n",
       "    .dataframe tbody tr th {\n",
       "        vertical-align: top;\n",
       "    }\n",
       "\n",
       "    .dataframe thead th {\n",
       "        text-align: right;\n",
       "    }\n",
       "</style>\n",
       "<table border=\"1\" class=\"dataframe\">\n",
       "  <thead>\n",
       "    <tr style=\"text-align: right;\">\n",
       "      <th>status_emprestimo</th>\n",
       "      <th>0.0</th>\n",
       "      <th>1.0</th>\n",
       "      <th>All</th>\n",
       "    </tr>\n",
       "    <tr>\n",
       "      <th>motivo_emprestimo</th>\n",
       "      <th></th>\n",
       "      <th></th>\n",
       "      <th></th>\n",
       "    </tr>\n",
       "  </thead>\n",
       "  <tbody>\n",
       "    <tr>\n",
       "      <th>Educativo</th>\n",
       "      <td>5529</td>\n",
       "      <td>1173</td>\n",
       "      <td>6702</td>\n",
       "    </tr>\n",
       "    <tr>\n",
       "      <th>Empreendimento</th>\n",
       "      <td>5045</td>\n",
       "      <td>887</td>\n",
       "      <td>5932</td>\n",
       "    </tr>\n",
       "    <tr>\n",
       "      <th>Medico</th>\n",
       "      <td>4643</td>\n",
       "      <td>1674</td>\n",
       "      <td>6317</td>\n",
       "    </tr>\n",
       "    <tr>\n",
       "      <th>Melhoria do Lar</th>\n",
       "      <td>2789</td>\n",
       "      <td>968</td>\n",
       "      <td>3757</td>\n",
       "    </tr>\n",
       "    <tr>\n",
       "      <th>Pagamento de Debitos</th>\n",
       "      <td>3892</td>\n",
       "      <td>1532</td>\n",
       "      <td>5424</td>\n",
       "    </tr>\n",
       "    <tr>\n",
       "      <th>Pessoal</th>\n",
       "      <td>4585</td>\n",
       "      <td>1144</td>\n",
       "      <td>5729</td>\n",
       "    </tr>\n",
       "    <tr>\n",
       "      <th>All</th>\n",
       "      <td>26483</td>\n",
       "      <td>7378</td>\n",
       "      <td>33861</td>\n",
       "    </tr>\n",
       "  </tbody>\n",
       "</table>\n",
       "</div>"
      ],
      "text/plain": [
       "status_emprestimo       0.0   1.0    All\n",
       "motivo_emprestimo                       \n",
       "Educativo              5529  1173   6702\n",
       "Empreendimento         5045   887   5932\n",
       "Medico                 4643  1674   6317\n",
       "Melhoria do Lar        2789   968   3757\n",
       "Pagamento de Debitos   3892  1532   5424\n",
       "Pessoal                4585  1144   5729\n",
       "All                   26483  7378  33861"
      ]
     },
     "execution_count": 59,
     "metadata": {},
     "output_type": "execute_result"
    }
   ],
   "source": [
    "pd.crosstab(index= dados['motivo_emprestimo'], columns= dados['status_emprestimo'], margins = True)"
   ]
  },
  {
   "cell_type": "code",
   "execution_count": 63,
   "metadata": {},
   "outputs": [
    {
     "data": {
      "text/html": [
       "<div>\n",
       "<style scoped>\n",
       "    .dataframe tbody tr th:only-of-type {\n",
       "        vertical-align: middle;\n",
       "    }\n",
       "\n",
       "    .dataframe tbody tr th {\n",
       "        vertical-align: top;\n",
       "    }\n",
       "\n",
       "    .dataframe thead th {\n",
       "        text-align: right;\n",
       "    }\n",
       "</style>\n",
       "<table border=\"1\" class=\"dataframe\">\n",
       "  <thead>\n",
       "    <tr style=\"text-align: right;\">\n",
       "      <th>status_emprestimo</th>\n",
       "      <th>0.0</th>\n",
       "      <th>1.0</th>\n",
       "    </tr>\n",
       "    <tr>\n",
       "      <th>situacao_moradia_usuario</th>\n",
       "      <th></th>\n",
       "      <th></th>\n",
       "    </tr>\n",
       "  </thead>\n",
       "  <tbody>\n",
       "    <tr>\n",
       "      <th>Alugada</th>\n",
       "      <td>0.144940</td>\n",
       "      <td>0.264224</td>\n",
       "    </tr>\n",
       "    <tr>\n",
       "      <th>Hipotecada</th>\n",
       "      <td>0.146539</td>\n",
       "      <td>0.186730</td>\n",
       "    </tr>\n",
       "    <tr>\n",
       "      <th>Outros</th>\n",
       "      <td>0.144133</td>\n",
       "      <td>0.306471</td>\n",
       "    </tr>\n",
       "    <tr>\n",
       "      <th>Propria</th>\n",
       "      <td>0.179491</td>\n",
       "      <td>0.296364</td>\n",
       "    </tr>\n",
       "  </tbody>\n",
       "</table>\n",
       "</div>"
      ],
      "text/plain": [
       "status_emprestimo              0.0       1.0\n",
       "situacao_moradia_usuario                    \n",
       "Alugada                   0.144940  0.264224\n",
       "Hipotecada                0.146539  0.186730\n",
       "Outros                    0.144133  0.306471\n",
       "Propria                   0.179491  0.296364"
      ]
     },
     "execution_count": 63,
     "metadata": {},
     "output_type": "execute_result"
    }
   ],
   "source": [
    "pd.crosstab(index= dados['situacao_moradia_usuario'], columns= dados['status_emprestimo'],\n",
    "              values=dados['renda_percentual_emprestimo'], aggfunc='mean')"
   ]
  },
  {
   "cell_type": "code",
   "execution_count": 64,
   "metadata": {},
   "outputs": [
    {
     "data": {
      "image/png": "[encoded data removed]",
      "text/plain": [
       "<Figure size 1200x600 with 1 Axes>"
      ]
     },
     "metadata": {},
     "output_type": "display_data"
    }
   ],
   "source": [
    "# Box Plot da Renda Percentual Média por Status do Empréstimo\n",
    "dados.boxplot(column = ['renda_percentual_emprestimo'], by = 'status_emprestimo')\n",
    "plt.title('Renda Percentual Média por Status do Empréstimo')\n",
    "plt.suptitle('')\n",
    "plt.show()"
   ]
  },
  {
   "attachments": {},
   "cell_type": "markdown",
   "metadata": {},
   "source": [
    "A porcentagem média de renda para inadimplentes (=1) é maior do que os adimplentes. Isso pode indicar que essas pessoas têm uma relação dívida/renda que já é muito alta."
   ]
  }
 ],
 "metadata": {
  "kernelspec": {
   "display_name": "Python 3 (ipykernel)",
   "language": "python",
   "name": "python3"
  },
  "language_info": {
   "codemirror_mode": {
    "name": "ipython",
    "version": 3
   },
   "file_extension": ".py",
   "mimetype": "text/x-python",
   "name": "python",
   "nbconvert_exporter": "python",
   "pygments_lexer": "ipython3",
   "version": "3.11.0"
  },
  "vscode": {
   "interpreter": {
    "hash": "c261aea317cc0286b3b3261fbba9abdec21eaa57589985bb7a274bf54d6cc0a7"
   }
  }
 },
 "nbformat": 4,
 "nbformat_minor": 2
}
