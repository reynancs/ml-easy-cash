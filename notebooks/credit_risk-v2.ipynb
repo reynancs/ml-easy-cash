{
 "cells": [
  {
   "cell_type": "markdown",
   "metadata": {},
   "source": [
    "***\n",
    "# Easy Cash - Credit Risk Classification\n",
    "Uma das área que causa mais problemas para bancos, financiadoras e empresários é a taxa de inadimplência por parte da sua carteira de clientes. Avaliar se uma pessoa irá deixar de cumprir com suas obrigações financeiras é de extrema importância, e pode causar um grande impacto no balanço da Instituição. Cada vez mais soluções vêm sendo desenvolvidas e aprimoradas visando minimizar o ***risco de default***.\n",
    "\n",
    "\n",
    "***Defaulf:*** é o termo utilizado para indicar o não cumprimento das obrigações e/ou condições de um empréstimo (como financiamentos ou dívidas de cartão de crédito)\n",
    "***"
   ]
  },
  {
   "cell_type": "markdown",
   "metadata": {},
   "source": [
    "## 1. BUSINESS UNDERSTANDING"
   ]
  },
  {
   "cell_type": "markdown",
   "metadata": {},
   "source": [
    "#### Business Problem\n",
    "A Easy Cash é um banco digital que atua desde 2015 no Brasil oferecendo produtos financeiros como: cartões de crédito, seguros e emprestímos. Uma das área que causa mais problemas para bancos, fintechs é a taxa de inadimplência por parte da sua carteira de clientes. No último resultado trimestral divulgado pela empresa, a diretoria financeira, comunicou que o número de inadimplentes após a liberação de crédito aumentou significativamente, tendo o ***EL (Expected Loss)*** com um aumento de 15% representando um ***EC (Economic Capital)*** de R$ 6.2 milhões para cobrir essas perdas inesperadas. \n",
    "Portanto, foi solicitado ao time de Data Science, que realizasse um estudo das informações financeiras e das solicitações de empréstimo para encontrar padrões que possam indicar uma possível inadimplência e determinar quais ações possam ser implementadas, afim de, reduzir estas perdas financeiras por conta de pessoas mutuárias que não quitam suas dívidas.\n",
    "\n",
    "Além do objetivo á ser alcançado o diretor solicitou um relatório respondendo algumas questões para ser validadas:\n",
    "- Hypothesis #1: Clientes mais jovens (abaixo de 30 anos de idade) são responsáveis pelo número elevado de inadimplência?\n",
    "- Hypothesis #2: "
   ]
  },
  {
   "cell_type": "markdown",
   "metadata": {},
   "source": [
    "## 2. DATA UNDERSTANDING"
   ]
  },
  {
   "cell_type": "markdown",
   "metadata": {},
   "source": [
    "### 2.0 IMPORTING LIBRARIES"
   ]
  },
  {
   "cell_type": "code",
   "execution_count": 1,
   "metadata": {},
   "outputs": [],
   "source": [
    "import pandas as pd\n",
    "import numpy as np\n",
    "import seaborn as sns\n",
    "import matplotlib.pyplot as plt\n",
    "%matplotlib inline\n",
    "plt.rc('figure', figsize = (12,6))"
   ]
  },
  {
   "cell_type": "markdown",
   "metadata": {},
   "source": [
    "### 2.1 LOADING DATA\n",
    "\n",
    "A base de dados foi disponibilizada pelo cliente em 4 tabelas distintas (descritas abaixo) no formato de dumps (.sql), os dados das tabelas foram carregados no banco de dados ` analise_risco` no MySQL, posteriormente foi realizado o ***union data*** consolidando os dados em apenas uma tabela `dados_juntos.csv` exportado em formato .csv para consumo.\n",
    "\n",
    "Para consultar o dicionário de dados , consulte o readme: `/data/readme.md`"
   ]
  },
  {
   "cell_type": "code",
   "execution_count": 2,
   "metadata": {},
   "outputs": [
    {
     "data": {
      "text/html": [
       "<div>\n",
       "<style scoped>\n",
       "    .dataframe tbody tr th:only-of-type {\n",
       "        vertical-align: middle;\n",
       "    }\n",
       "\n",
       "    .dataframe tbody tr th {\n",
       "        vertical-align: top;\n",
       "    }\n",
       "\n",
       "    .dataframe thead th {\n",
       "        text-align: right;\n",
       "    }\n",
       "</style>\n",
       "<table border=\"1\" class=\"dataframe\">\n",
       "  <thead>\n",
       "    <tr style=\"text-align: right;\">\n",
       "      <th></th>\n",
       "      <th>person_age</th>\n",
       "      <th>person_income</th>\n",
       "      <th>person_home_ownership</th>\n",
       "      <th>person_emp_length</th>\n",
       "      <th>loan_intent</th>\n",
       "      <th>loan_grade</th>\n",
       "      <th>loan_amnt</th>\n",
       "      <th>loan_int_rate</th>\n",
       "      <th>loan_status</th>\n",
       "      <th>loan_percent_income</th>\n",
       "      <th>cb_person_default_on_file</th>\n",
       "      <th>cb_person_cred_hist_length</th>\n",
       "    </tr>\n",
       "  </thead>\n",
       "  <tbody>\n",
       "    <tr>\n",
       "      <th>0</th>\n",
       "      <td>21.0</td>\n",
       "      <td>60000.0</td>\n",
       "      <td>Rent</td>\n",
       "      <td>2.0</td>\n",
       "      <td>Education</td>\n",
       "      <td>B</td>\n",
       "      <td>8000.0</td>\n",
       "      <td>11.26</td>\n",
       "      <td>0.0</td>\n",
       "      <td>0.13</td>\n",
       "      <td>N</td>\n",
       "      <td>3.0</td>\n",
       "    </tr>\n",
       "    <tr>\n",
       "      <th>1</th>\n",
       "      <td>40.0</td>\n",
       "      <td>70000.0</td>\n",
       "      <td>Mortgage</td>\n",
       "      <td>6.0</td>\n",
       "      <td>Education</td>\n",
       "      <td>A</td>\n",
       "      <td>18000.0</td>\n",
       "      <td>7.90</td>\n",
       "      <td>0.0</td>\n",
       "      <td>0.26</td>\n",
       "      <td>N</td>\n",
       "      <td>14.0</td>\n",
       "    </tr>\n",
       "    <tr>\n",
       "      <th>2</th>\n",
       "      <td>29.0</td>\n",
       "      <td>115000.0</td>\n",
       "      <td>Mortgage</td>\n",
       "      <td>3.0</td>\n",
       "      <td>Medical</td>\n",
       "      <td>C</td>\n",
       "      <td>22000.0</td>\n",
       "      <td>15.23</td>\n",
       "      <td>0.0</td>\n",
       "      <td>0.19</td>\n",
       "      <td>Y</td>\n",
       "      <td>7.0</td>\n",
       "    </tr>\n",
       "    <tr>\n",
       "      <th>3</th>\n",
       "      <td>26.0</td>\n",
       "      <td>84996.0</td>\n",
       "      <td>Rent</td>\n",
       "      <td>0.0</td>\n",
       "      <td>Medical</td>\n",
       "      <td>B</td>\n",
       "      <td>9000.0</td>\n",
       "      <td>11.26</td>\n",
       "      <td>0.0</td>\n",
       "      <td>0.11</td>\n",
       "      <td>N</td>\n",
       "      <td>2.0</td>\n",
       "    </tr>\n",
       "    <tr>\n",
       "      <th>4</th>\n",
       "      <td>23.0</td>\n",
       "      <td>54500.0</td>\n",
       "      <td>Rent</td>\n",
       "      <td>2.0</td>\n",
       "      <td>Debtconsolidation</td>\n",
       "      <td>A</td>\n",
       "      <td>8000.0</td>\n",
       "      <td>NaN</td>\n",
       "      <td>0.0</td>\n",
       "      <td>0.15</td>\n",
       "      <td>N</td>\n",
       "      <td>2.0</td>\n",
       "    </tr>\n",
       "    <tr>\n",
       "      <th>5</th>\n",
       "      <td>40.0</td>\n",
       "      <td>44000.0</td>\n",
       "      <td>Rent</td>\n",
       "      <td>0.0</td>\n",
       "      <td>Personal</td>\n",
       "      <td>A</td>\n",
       "      <td>6000.0</td>\n",
       "      <td>NaN</td>\n",
       "      <td>1.0</td>\n",
       "      <td>0.14</td>\n",
       "      <td>N</td>\n",
       "      <td>12.0</td>\n",
       "    </tr>\n",
       "    <tr>\n",
       "      <th>6</th>\n",
       "      <td>23.0</td>\n",
       "      <td>24000.0</td>\n",
       "      <td>Own</td>\n",
       "      <td>7.0</td>\n",
       "      <td>Education</td>\n",
       "      <td>A</td>\n",
       "      <td>5000.0</td>\n",
       "      <td>7.49</td>\n",
       "      <td>0.0</td>\n",
       "      <td>0.21</td>\n",
       "      <td>N</td>\n",
       "      <td>2.0</td>\n",
       "    </tr>\n",
       "    <tr>\n",
       "      <th>7</th>\n",
       "      <td>27.0</td>\n",
       "      <td>56253.0</td>\n",
       "      <td>Rent</td>\n",
       "      <td>11.0</td>\n",
       "      <td>Venture</td>\n",
       "      <td>B</td>\n",
       "      <td>10000.0</td>\n",
       "      <td>11.36</td>\n",
       "      <td>0.0</td>\n",
       "      <td>0.18</td>\n",
       "      <td>N</td>\n",
       "      <td>8.0</td>\n",
       "    </tr>\n",
       "    <tr>\n",
       "      <th>8</th>\n",
       "      <td>32.0</td>\n",
       "      <td>19200.0</td>\n",
       "      <td>Rent</td>\n",
       "      <td>0.0</td>\n",
       "      <td>Venture</td>\n",
       "      <td>B</td>\n",
       "      <td>5000.0</td>\n",
       "      <td>9.99</td>\n",
       "      <td>1.0</td>\n",
       "      <td>0.26</td>\n",
       "      <td>N</td>\n",
       "      <td>6.0</td>\n",
       "    </tr>\n",
       "    <tr>\n",
       "      <th>9</th>\n",
       "      <td>24.0</td>\n",
       "      <td>18000.0</td>\n",
       "      <td>Own</td>\n",
       "      <td>0.0</td>\n",
       "      <td>Homeimprovement</td>\n",
       "      <td>A</td>\n",
       "      <td>6250.0</td>\n",
       "      <td>6.54</td>\n",
       "      <td>1.0</td>\n",
       "      <td>0.35</td>\n",
       "      <td>N</td>\n",
       "      <td>4.0</td>\n",
       "    </tr>\n",
       "  </tbody>\n",
       "</table>\n",
       "</div>"
      ],
      "text/plain": [
       "   person_age  person_income person_home_ownership  person_emp_length  \\\n",
       "0        21.0        60000.0                  Rent                2.0   \n",
       "1        40.0        70000.0              Mortgage                6.0   \n",
       "2        29.0       115000.0              Mortgage                3.0   \n",
       "3        26.0        84996.0                  Rent                0.0   \n",
       "4        23.0        54500.0                  Rent                2.0   \n",
       "5        40.0        44000.0                  Rent                0.0   \n",
       "6        23.0        24000.0                   Own                7.0   \n",
       "7        27.0        56253.0                  Rent               11.0   \n",
       "8        32.0        19200.0                  Rent                0.0   \n",
       "9        24.0        18000.0                   Own                0.0   \n",
       "\n",
       "         loan_intent loan_grade  loan_amnt  loan_int_rate  loan_status  \\\n",
       "0          Education          B     8000.0          11.26          0.0   \n",
       "1          Education          A    18000.0           7.90          0.0   \n",
       "2            Medical          C    22000.0          15.23          0.0   \n",
       "3            Medical          B     9000.0          11.26          0.0   \n",
       "4  Debtconsolidation          A     8000.0            NaN          0.0   \n",
       "5           Personal          A     6000.0            NaN          1.0   \n",
       "6          Education          A     5000.0           7.49          0.0   \n",
       "7            Venture          B    10000.0          11.36          0.0   \n",
       "8            Venture          B     5000.0           9.99          1.0   \n",
       "9    Homeimprovement          A     6250.0           6.54          1.0   \n",
       "\n",
       "   loan_percent_income cb_person_default_on_file  cb_person_cred_hist_length  \n",
       "0                 0.13                         N                         3.0  \n",
       "1                 0.26                         N                        14.0  \n",
       "2                 0.19                         Y                         7.0  \n",
       "3                 0.11                         N                         2.0  \n",
       "4                 0.15                         N                         2.0  \n",
       "5                 0.14                         N                        12.0  \n",
       "6                 0.21                         N                         2.0  \n",
       "7                 0.18                         N                         8.0  \n",
       "8                 0.26                         N                         6.0  \n",
       "9                 0.35                         N                         4.0  "
      ]
     },
     "execution_count": 2,
     "metadata": {},
     "output_type": "execute_result"
    }
   ],
   "source": [
    "dados = pd.read_csv('../data/raw/dados_unidos.csv')\n",
    "dados.head(10)"
   ]
  },
  {
   "cell_type": "code",
   "execution_count": 3,
   "metadata": {},
   "outputs": [
    {
     "name": "stdout",
     "output_type": "stream",
     "text": [
      "Número de Registros: 34501\n",
      "Número de Colunas: 12\n"
     ]
    }
   ],
   "source": [
    "# Verificando a qtd de registros\n",
    "print(f'Número de Registros: {dados.shape[0]}')\n",
    "print(f'Número de Colunas: {dados.shape[1]}')"
   ]
  },
  {
   "cell_type": "markdown",
   "metadata": {},
   "source": [
    "### 2.2 RENAMING COLUMNS E DATA"
   ]
  },
  {
   "cell_type": "code",
   "execution_count": 4,
   "metadata": {},
   "outputs": [],
   "source": [
    "# Renomeando nomes das colunas - tradução (en -> pt)\n",
    "dict_col_name = {\n",
    "    'person_age': 'idade_usuario',\n",
    "    'person_income': 'salario_usuario',\n",
    "    'person_home_ownership': 'situacao_moradia_usuario',\n",
    "    'person_emp_length': 'tempo_de_trabalho_usuario',\n",
    "    'loan_intent': 'motivo_emprestimo',\n",
    "    'loan_grade': 'pontuacao_emprestimo',\n",
    "    'loan_amnt': 'valor_emprestimo',\n",
    "    'loan_int_rate': 'taxa_juros_emprestimo',\n",
    "    'loan_status': 'status_emprestimo',\n",
    "    'loan_percent_income': 'renda_percentual_emprestimo',\n",
    "    'cb_person_default_on_file': 'devendo',\n",
    "    'cb_person_cred_hist_length': 'tempo_de_credito'\n",
    "}\n",
    "# axis=1 -> coluna\n",
    "dados.rename(dict_col_name, axis= 1, inplace=True)"
   ]
  },
  {
   "cell_type": "code",
   "execution_count": 5,
   "metadata": {},
   "outputs": [],
   "source": [
    "# Renomeando dados das linhas - tradução (en -> pt)\n",
    "dict_situacao_moradia = {\n",
    "    'Rent': 'Alugada',\n",
    "    'Own': 'Propria',\n",
    "    'Mortgage': 'Hipotecada',\n",
    "    'Other': 'Outros'\n",
    "}\n",
    "\n",
    "dict_motivo_emprestimo = {\n",
    "    'Personal':'Pessoal',\n",
    "    'Education': 'Educativo',\n",
    "    'Medical':'Medico',\n",
    "    'Venture':'Empreendimento',\n",
    "    'Homeimprovement': 'Melhoria do Lar',\n",
    "    'Debtconsolidation': 'Pagamento de Debitos'\n",
    "}\n",
    "# axis=0 (default) -> linhas\n",
    "dados.replace(dict_situacao_moradia, inplace=True)\n",
    "dados.replace(dict_motivo_emprestimo, inplace=True)"
   ]
  },
  {
   "cell_type": "markdown",
   "metadata": {},
   "source": [
    "### 2.3 CLEANING DATA\n"
   ]
  },
  {
   "cell_type": "markdown",
   "metadata": {},
   "source": [
    "Sabemos que boa parte do tempo e sucesso de um projeto de Machine Learning concentrasse na limpeza dos dados, os dados preparados permitem que os modelos treinem mais rapidamente, além de impactar significativamente o desempenho do modelo, desta forma será garantido a qualidade da base de dados, tratando valores ausentes, nulos e remoção de outliers."
   ]
  },
  {
   "cell_type": "markdown",
   "metadata": {},
   "source": [
    "### i) Missing Data"
   ]
  },
  {
   "cell_type": "code",
   "execution_count": 6,
   "metadata": {},
   "outputs": [
    {
     "data": {
      "text/plain": [
       "idade_usuario                   324\n",
       "salario_usuario                 339\n",
       "situacao_moradia_usuario        331\n",
       "tempo_de_trabalho_usuario      1254\n",
       "motivo_emprestimo               315\n",
       "pontuacao_emprestimo            313\n",
       "valor_emprestimo                331\n",
       "taxa_juros_emprestimo          3630\n",
       "status_emprestimo               343\n",
       "renda_percentual_emprestimo     319\n",
       "devendo                         370\n",
       "tempo_de_credito                  4\n",
       "dtype: int64"
      ]
     },
     "execution_count": 6,
     "metadata": {},
     "output_type": "execute_result"
    }
   ],
   "source": [
    "# Verificando a presença de valores nulos\n",
    "dados.isnull().sum()"
   ]
  },
  {
   "cell_type": "markdown",
   "metadata": {},
   "source": [
    "**NOTAS:** É possível verificar que há dados nulos/ausentes em todas as categorias sejam de dados númericos ou categóricos, que precisam ser tratados. "
   ]
  },
  {
   "cell_type": "markdown",
   "metadata": {},
   "source": [
    "##### DROPNA( ) - Removendo dados ausentes\n",
    "a) `status_emprestimo`: Os dados ausentes na nossa variável default `status_emprestimo` não poderá ser utilizado para prever a probabilidade de inadimplência, porque não saberemos se o empréstimo foi inadimplente ou não, além de se tratar da resposta que procuramos da variável dependente.\n",
    "\n",
    "b) `taxa_juros_emprestimo`: De forma semelhante ao item anterior, ter dados ausentes neste campo dificultará as previsões do modelo. Como as taxas de juros são definidas pela empresa, e temos valores ausentes nela, é provável que tenha ocorrido alguns erros durante a ingestão de dados.\n",
    "\n",
    "Portanto, afim de garantir a qualidade dos dados, o time entendeu que seria melhor remover a presença de dados nulos nestes dataset e decidir não fazer qualquer tipo de preenchimento para que não seja adicionado nenhum ruído nos dados."
   ]
  },
  {
   "cell_type": "code",
   "execution_count": 7,
   "metadata": {},
   "outputs": [
    {
     "data": {
      "text/plain": [
       "idade_usuario                  0\n",
       "salario_usuario                0\n",
       "situacao_moradia_usuario       0\n",
       "tempo_de_trabalho_usuario      0\n",
       "motivo_emprestimo              0\n",
       "pontuacao_emprestimo           0\n",
       "valor_emprestimo               0\n",
       "taxa_juros_emprestimo          0\n",
       "status_emprestimo              0\n",
       "renda_percentual_emprestimo    0\n",
       "devendo                        0\n",
       "tempo_de_credito               0\n",
       "dtype: int64"
      ]
     },
     "execution_count": 7,
     "metadata": {},
     "output_type": "execute_result"
    }
   ],
   "source": [
    "# Deletando valores ausentes\n",
    "dados_tratados = dados.dropna()\n",
    "dados_tratados.isnull().sum()"
   ]
  },
  {
   "cell_type": "markdown",
   "metadata": {},
   "source": [
    "### ii) Outilers"
   ]
  },
  {
   "cell_type": "code",
   "execution_count": 8,
   "metadata": {},
   "outputs": [
    {
     "data": {
      "text/html": [
       "<div>\n",
       "<style scoped>\n",
       "    .dataframe tbody tr th:only-of-type {\n",
       "        vertical-align: middle;\n",
       "    }\n",
       "\n",
       "    .dataframe tbody tr th {\n",
       "        vertical-align: top;\n",
       "    }\n",
       "\n",
       "    .dataframe thead th {\n",
       "        text-align: right;\n",
       "    }\n",
       "</style>\n",
       "<table border=\"1\" class=\"dataframe\">\n",
       "  <thead>\n",
       "    <tr style=\"text-align: right;\">\n",
       "      <th></th>\n",
       "      <th>idade_usuario</th>\n",
       "      <th>salario_usuario</th>\n",
       "      <th>tempo_de_trabalho_usuario</th>\n",
       "      <th>valor_emprestimo</th>\n",
       "      <th>taxa_juros_emprestimo</th>\n",
       "      <th>status_emprestimo</th>\n",
       "      <th>renda_percentual_emprestimo</th>\n",
       "      <th>tempo_de_credito</th>\n",
       "    </tr>\n",
       "  </thead>\n",
       "  <tbody>\n",
       "    <tr>\n",
       "      <th>count</th>\n",
       "      <td>28638.000000</td>\n",
       "      <td>2.863800e+04</td>\n",
       "      <td>28638.000000</td>\n",
       "      <td>28638.000000</td>\n",
       "      <td>28638.000000</td>\n",
       "      <td>28638.000000</td>\n",
       "      <td>28638.000000</td>\n",
       "      <td>28638.000000</td>\n",
       "    </tr>\n",
       "    <tr>\n",
       "      <th>mean</th>\n",
       "      <td>27.727216</td>\n",
       "      <td>6.664937e+04</td>\n",
       "      <td>4.788672</td>\n",
       "      <td>9656.493121</td>\n",
       "      <td>11.039867</td>\n",
       "      <td>0.216600</td>\n",
       "      <td>0.169488</td>\n",
       "      <td>5.793736</td>\n",
       "    </tr>\n",
       "    <tr>\n",
       "      <th>std</th>\n",
       "      <td>6.310441</td>\n",
       "      <td>6.235645e+04</td>\n",
       "      <td>4.154627</td>\n",
       "      <td>6329.683361</td>\n",
       "      <td>3.229372</td>\n",
       "      <td>0.411935</td>\n",
       "      <td>0.106393</td>\n",
       "      <td>4.038483</td>\n",
       "    </tr>\n",
       "    <tr>\n",
       "      <th>min</th>\n",
       "      <td>20.000000</td>\n",
       "      <td>4.000000e+03</td>\n",
       "      <td>0.000000</td>\n",
       "      <td>500.000000</td>\n",
       "      <td>5.420000</td>\n",
       "      <td>0.000000</td>\n",
       "      <td>0.000000</td>\n",
       "      <td>2.000000</td>\n",
       "    </tr>\n",
       "    <tr>\n",
       "      <th>25%</th>\n",
       "      <td>23.000000</td>\n",
       "      <td>3.948000e+04</td>\n",
       "      <td>2.000000</td>\n",
       "      <td>5000.000000</td>\n",
       "      <td>7.900000</td>\n",
       "      <td>0.000000</td>\n",
       "      <td>0.090000</td>\n",
       "      <td>3.000000</td>\n",
       "    </tr>\n",
       "    <tr>\n",
       "      <th>50%</th>\n",
       "      <td>26.000000</td>\n",
       "      <td>5.595600e+04</td>\n",
       "      <td>4.000000</td>\n",
       "      <td>8000.000000</td>\n",
       "      <td>10.990000</td>\n",
       "      <td>0.000000</td>\n",
       "      <td>0.150000</td>\n",
       "      <td>4.000000</td>\n",
       "    </tr>\n",
       "    <tr>\n",
       "      <th>75%</th>\n",
       "      <td>30.000000</td>\n",
       "      <td>8.000000e+04</td>\n",
       "      <td>7.000000</td>\n",
       "      <td>12500.000000</td>\n",
       "      <td>13.480000</td>\n",
       "      <td>0.000000</td>\n",
       "      <td>0.230000</td>\n",
       "      <td>8.000000</td>\n",
       "    </tr>\n",
       "    <tr>\n",
       "      <th>max</th>\n",
       "      <td>144.000000</td>\n",
       "      <td>6.000000e+06</td>\n",
       "      <td>123.000000</td>\n",
       "      <td>35000.000000</td>\n",
       "      <td>23.220000</td>\n",
       "      <td>1.000000</td>\n",
       "      <td>0.830000</td>\n",
       "      <td>30.000000</td>\n",
       "    </tr>\n",
       "  </tbody>\n",
       "</table>\n",
       "</div>"
      ],
      "text/plain": [
       "       idade_usuario  salario_usuario  tempo_de_trabalho_usuario  \\\n",
       "count   28638.000000     2.863800e+04               28638.000000   \n",
       "mean       27.727216     6.664937e+04                   4.788672   \n",
       "std         6.310441     6.235645e+04                   4.154627   \n",
       "min        20.000000     4.000000e+03                   0.000000   \n",
       "25%        23.000000     3.948000e+04                   2.000000   \n",
       "50%        26.000000     5.595600e+04                   4.000000   \n",
       "75%        30.000000     8.000000e+04                   7.000000   \n",
       "max       144.000000     6.000000e+06                 123.000000   \n",
       "\n",
       "       valor_emprestimo  taxa_juros_emprestimo  status_emprestimo  \\\n",
       "count      28638.000000           28638.000000       28638.000000   \n",
       "mean        9656.493121              11.039867           0.216600   \n",
       "std         6329.683361               3.229372           0.411935   \n",
       "min          500.000000               5.420000           0.000000   \n",
       "25%         5000.000000               7.900000           0.000000   \n",
       "50%         8000.000000              10.990000           0.000000   \n",
       "75%        12500.000000              13.480000           0.000000   \n",
       "max        35000.000000              23.220000           1.000000   \n",
       "\n",
       "       renda_percentual_emprestimo  tempo_de_credito  \n",
       "count                 28638.000000      28638.000000  \n",
       "mean                      0.169488          5.793736  \n",
       "std                       0.106393          4.038483  \n",
       "min                       0.000000          2.000000  \n",
       "25%                       0.090000          3.000000  \n",
       "50%                       0.150000          4.000000  \n",
       "75%                       0.230000          8.000000  \n",
       "max                       0.830000         30.000000  "
      ]
     },
     "execution_count": 8,
     "metadata": {},
     "output_type": "execute_result"
    }
   ],
   "source": [
    "# Verificando os dados numéricos\n",
    "dados_tratados.describe()"
   ]
  },
  {
   "cell_type": "markdown",
   "metadata": {},
   "source": [
    ">É possivel identificar através dos valores `máx` a presença de outliers nos dados de `idade_usuario` e `salario_usuario` e `tempo_de_trabalho_usuario`.  Vamos verificar através de um boxplot para entender melhor o comportamento destes dados."
   ]
  },
  {
   "cell_type": "code",
   "execution_count": 9,
   "metadata": {},
   "outputs": [
    {
     "data": {
      "text/plain": [
       "<AxesSubplot:>"
      ]
     },
     "execution_count": 9,
     "metadata": {},
     "output_type": "execute_result"
    },
    {
     "data": {
      "image/png": "[encoded data removed]",
      "text/plain": [
       "<Figure size 1200x600 with 1 Axes>"
      ]
     },
     "metadata": {},
     "output_type": "display_data"
    }
   ],
   "source": [
    "# BOXPLOT: Visualizando os dados de idade e tempo de trabalho\n",
    "dados_tratados.boxplot(['idade_usuario', 'tempo_de_trabalho_usuario'])"
   ]
  },
  {
   "cell_type": "code",
   "execution_count": 10,
   "metadata": {},
   "outputs": [],
   "source": [
    "# SUBSETING: Removendo dados com idade superior á 100 anos\n",
    "dados_tratados = dados_tratados[(dados_tratados['idade_usuario'] < 100)]"
   ]
  },
  {
   "cell_type": "code",
   "execution_count": 11,
   "metadata": {},
   "outputs": [],
   "source": [
    "# SUBSETING: Removendo dados com tempo de trabalho superior á 60 anos\n",
    "dados_tratados = dados_tratados[dados_tratados['tempo_de_trabalho_usuario'] < 60 ]"
   ]
  },
  {
   "cell_type": "code",
   "execution_count": 12,
   "metadata": {},
   "outputs": [
    {
     "data": {
      "text/plain": [
       "<AxesSubplot:>"
      ]
     },
     "execution_count": 12,
     "metadata": {},
     "output_type": "execute_result"
    },
    {
     "data": {
      "image/png": "[encoded data removed]",
      "text/plain": [
       "<Figure size 1200x600 with 1 Axes>"
      ]
     },
     "metadata": {},
     "output_type": "display_data"
    }
   ],
   "source": [
    "# BOXPLOT: Visualizando os dados após remoção\n",
    "dados_tratados.boxplot(['idade_usuario', 'tempo_de_trabalho_usuario'])"
   ]
  },
  {
   "cell_type": "code",
   "execution_count": 13,
   "metadata": {},
   "outputs": [
    {
     "data": {
      "text/plain": [
       "<AxesSubplot:>"
      ]
     },
     "execution_count": 13,
     "metadata": {},
     "output_type": "execute_result"
    },
    {
     "data": {
      "image/png": "[encoded data removed]",
      "text/plain": [
       "<Figure size 1200x600 with 1 Axes>"
      ]
     },
     "metadata": {},
     "output_type": "display_data"
    }
   ],
   "source": [
    "# BOXPLOT: Visualizando os dados de salário\n",
    "dados_tratados.boxplot(['salario_usuario'])"
   ]
  },
  {
   "cell_type": "code",
   "execution_count": 14,
   "metadata": {},
   "outputs": [
    {
     "data": {
      "text/html": [
       "<div>\n",
       "<style scoped>\n",
       "    .dataframe tbody tr th:only-of-type {\n",
       "        vertical-align: middle;\n",
       "    }\n",
       "\n",
       "    .dataframe tbody tr th {\n",
       "        vertical-align: top;\n",
       "    }\n",
       "\n",
       "    .dataframe thead th {\n",
       "        text-align: right;\n",
       "    }\n",
       "</style>\n",
       "<table border=\"1\" class=\"dataframe\">\n",
       "  <thead>\n",
       "    <tr style=\"text-align: right;\">\n",
       "      <th></th>\n",
       "      <th>idade_usuario</th>\n",
       "      <th>salario_usuario</th>\n",
       "      <th>situacao_moradia_usuario</th>\n",
       "      <th>tempo_de_trabalho_usuario</th>\n",
       "      <th>motivo_emprestimo</th>\n",
       "      <th>pontuacao_emprestimo</th>\n",
       "      <th>valor_emprestimo</th>\n",
       "      <th>taxa_juros_emprestimo</th>\n",
       "      <th>status_emprestimo</th>\n",
       "      <th>renda_percentual_emprestimo</th>\n",
       "      <th>devendo</th>\n",
       "      <th>tempo_de_credito</th>\n",
       "    </tr>\n",
       "  </thead>\n",
       "  <tbody>\n",
       "    <tr>\n",
       "      <th>14717</th>\n",
       "      <td>32.0</td>\n",
       "      <td>1200000.0</td>\n",
       "      <td>Hipotecada</td>\n",
       "      <td>1.0</td>\n",
       "      <td>Empreendimento</td>\n",
       "      <td>A</td>\n",
       "      <td>12000.0</td>\n",
       "      <td>7.51</td>\n",
       "      <td>0.0</td>\n",
       "      <td>0.01</td>\n",
       "      <td>N</td>\n",
       "      <td>8.0</td>\n",
       "    </tr>\n",
       "    <tr>\n",
       "      <th>27729</th>\n",
       "      <td>42.0</td>\n",
       "      <td>2039784.0</td>\n",
       "      <td>Alugada</td>\n",
       "      <td>0.0</td>\n",
       "      <td>Empreendimento</td>\n",
       "      <td>C</td>\n",
       "      <td>8450.0</td>\n",
       "      <td>12.29</td>\n",
       "      <td>0.0</td>\n",
       "      <td>0.00</td>\n",
       "      <td>Y</td>\n",
       "      <td>15.0</td>\n",
       "    </tr>\n",
       "    <tr>\n",
       "      <th>32532</th>\n",
       "      <td>47.0</td>\n",
       "      <td>1362000.0</td>\n",
       "      <td>Hipotecada</td>\n",
       "      <td>9.0</td>\n",
       "      <td>Empreendimento</td>\n",
       "      <td>A</td>\n",
       "      <td>6600.0</td>\n",
       "      <td>7.74</td>\n",
       "      <td>0.0</td>\n",
       "      <td>0.00</td>\n",
       "      <td>N</td>\n",
       "      <td>17.0</td>\n",
       "    </tr>\n",
       "    <tr>\n",
       "      <th>32945</th>\n",
       "      <td>36.0</td>\n",
       "      <td>1200000.0</td>\n",
       "      <td>Propria</td>\n",
       "      <td>16.0</td>\n",
       "      <td>Medico</td>\n",
       "      <td>A</td>\n",
       "      <td>10000.0</td>\n",
       "      <td>6.54</td>\n",
       "      <td>0.0</td>\n",
       "      <td>0.01</td>\n",
       "      <td>N</td>\n",
       "      <td>11.0</td>\n",
       "    </tr>\n",
       "    <tr>\n",
       "      <th>34348</th>\n",
       "      <td>44.0</td>\n",
       "      <td>1440000.0</td>\n",
       "      <td>Hipotecada</td>\n",
       "      <td>7.0</td>\n",
       "      <td>Pagamento de Debitos</td>\n",
       "      <td>A</td>\n",
       "      <td>6400.0</td>\n",
       "      <td>7.40</td>\n",
       "      <td>0.0</td>\n",
       "      <td>0.00</td>\n",
       "      <td>N</td>\n",
       "      <td>15.0</td>\n",
       "    </tr>\n",
       "  </tbody>\n",
       "</table>\n",
       "</div>"
      ],
      "text/plain": [
       "       idade_usuario  salario_usuario situacao_moradia_usuario  \\\n",
       "14717           32.0        1200000.0               Hipotecada   \n",
       "27729           42.0        2039784.0                  Alugada   \n",
       "32532           47.0        1362000.0               Hipotecada   \n",
       "32945           36.0        1200000.0                  Propria   \n",
       "34348           44.0        1440000.0               Hipotecada   \n",
       "\n",
       "       tempo_de_trabalho_usuario     motivo_emprestimo pontuacao_emprestimo  \\\n",
       "14717                        1.0        Empreendimento                    A   \n",
       "27729                        0.0        Empreendimento                    C   \n",
       "32532                        9.0        Empreendimento                    A   \n",
       "32945                       16.0                Medico                    A   \n",
       "34348                        7.0  Pagamento de Debitos                    A   \n",
       "\n",
       "       valor_emprestimo  taxa_juros_emprestimo  status_emprestimo  \\\n",
       "14717           12000.0                   7.51                0.0   \n",
       "27729            8450.0                  12.29                0.0   \n",
       "32532            6600.0                   7.74                0.0   \n",
       "32945           10000.0                   6.54                0.0   \n",
       "34348            6400.0                   7.40                0.0   \n",
       "\n",
       "       renda_percentual_emprestimo devendo  tempo_de_credito  \n",
       "14717                         0.01       N               8.0  \n",
       "27729                         0.00       Y              15.0  \n",
       "32532                         0.00       N              17.0  \n",
       "32945                         0.01       N              11.0  \n",
       "34348                         0.00       N              15.0  "
      ]
     },
     "execution_count": 14,
     "metadata": {},
     "output_type": "execute_result"
    }
   ],
   "source": [
    "# SUBSETING ROWS: Vamos listar estes salários acima de 1Mi para verificamos mais detalhes\n",
    "dados_tratados[dados_tratados['salario_usuario'] > 1000000 ].head()"
   ]
  },
  {
   "cell_type": "markdown",
   "metadata": {},
   "source": [
    "NOTA: Obtivemos 4 registros de clientes que ganham acima de 1 milhão e verificando o valor de emprestimo solicitado, vemos valores entre muito baixo entre 6.6K á 12K para uma pessoa que ganha acima de 1 Mi USD, sendo assim, o time resolveu remover estes dados. "
   ]
  },
  {
   "cell_type": "code",
   "execution_count": 16,
   "metadata": {},
   "outputs": [],
   "source": [
    "# SUBSETING: Removendo dados com salários acima de 1 milhão\n",
    "dados_tratados = dados_tratados[dados_tratados['salario_usuario'] < 1000000]"
   ]
  },
  {
   "cell_type": "code",
   "execution_count": 17,
   "metadata": {},
   "outputs": [
    {
     "data": {
      "text/plain": [
       "<AxesSubplot:>"
      ]
     },
     "execution_count": 17,
     "metadata": {},
     "output_type": "execute_result"
    },
    {
     "data": {
      "image/png": "[encoded data removed]",
      "text/plain": [
       "<Figure size 1200x600 with 1 Axes>"
      ]
     },
     "metadata": {},
     "output_type": "display_data"
    }
   ],
   "source": [
    "# BOXPLOT: Visualizando os dados de salário após remoção\n",
    "dados_tratados.boxplot(['salario_usuario'])"
   ]
  },
  {
   "cell_type": "markdown",
   "metadata": {},
   "source": [
    "### iii) Categorical Data Inconsistency"
   ]
  },
  {
   "cell_type": "markdown",
   "metadata": {},
   "source": [
    "##### Verificando inconsistência nos dados categóricos"
   ]
  },
  {
   "cell_type": "code",
   "execution_count": 18,
   "metadata": {},
   "outputs": [
    {
     "data": {
      "text/plain": [
       "array(['Alugada', 'Hipotecada', 'Propria', 'Outros'], dtype=object)"
      ]
     },
     "execution_count": 18,
     "metadata": {},
     "output_type": "execute_result"
    }
   ],
   "source": [
    "dados_tratados['situacao_moradia_usuario'].unique()"
   ]
  },
  {
   "cell_type": "code",
   "execution_count": 19,
   "metadata": {},
   "outputs": [
    {
     "data": {
      "text/plain": [
       "array(['Alugada', 'Hipotecada', 'Propria', 'Outros'], dtype=object)"
      ]
     },
     "execution_count": 19,
     "metadata": {},
     "output_type": "execute_result"
    }
   ],
   "source": [
    "dados_tratados['situacao_moradia_usuario'].unique()"
   ]
  },
  {
   "cell_type": "code",
   "execution_count": 20,
   "metadata": {},
   "outputs": [
    {
     "data": {
      "text/plain": [
       "array(['Educativo', 'Medico', 'Empreendimento', 'Melhoria do Lar',\n",
       "       'Pessoal', 'Pagamento de Debitos'], dtype=object)"
      ]
     },
     "execution_count": 20,
     "metadata": {},
     "output_type": "execute_result"
    }
   ],
   "source": [
    "dados_tratados['motivo_emprestimo'].unique()"
   ]
  },
  {
   "cell_type": "code",
   "execution_count": 21,
   "metadata": {},
   "outputs": [
    {
     "data": {
      "text/plain": [
       "array(['B', 'A', 'C', 'D', 'F', 'E', 'G'], dtype=object)"
      ]
     },
     "execution_count": 21,
     "metadata": {},
     "output_type": "execute_result"
    }
   ],
   "source": [
    "dados_tratados['pontuacao_emprestimo'].unique()"
   ]
  },
  {
   "cell_type": "code",
   "execution_count": 22,
   "metadata": {},
   "outputs": [
    {
     "data": {
      "text/plain": [
       "array([0., 1.])"
      ]
     },
     "execution_count": 22,
     "metadata": {},
     "output_type": "execute_result"
    }
   ],
   "source": [
    "dados_tratados['status_emprestimo'].unique()"
   ]
  },
  {
   "cell_type": "code",
   "execution_count": 23,
   "metadata": {},
   "outputs": [
    {
     "data": {
      "text/plain": [
       "array(['N', 'Y'], dtype=object)"
      ]
     },
     "execution_count": 23,
     "metadata": {},
     "output_type": "execute_result"
    }
   ],
   "source": [
    "dados_tratados['devendo'].unique()"
   ]
  },
  {
   "cell_type": "markdown",
   "metadata": {},
   "source": [
    "### 2.4 DATA TYPES\n",
    "\n",
    "\n"
   ]
  },
  {
   "cell_type": "code",
   "execution_count": 24,
   "metadata": {},
   "outputs": [
    {
     "name": "stdout",
     "output_type": "stream",
     "text": [
      "<class 'pandas.core.frame.DataFrame'>\n",
      "Int64Index: 28626 entries, 0 to 34500\n",
      "Data columns (total 12 columns):\n",
      " #   Column                       Non-Null Count  Dtype  \n",
      "---  ------                       --------------  -----  \n",
      " 0   idade_usuario                28626 non-null  float64\n",
      " 1   salario_usuario              28626 non-null  float64\n",
      " 2   situacao_moradia_usuario     28626 non-null  object \n",
      " 3   tempo_de_trabalho_usuario    28626 non-null  float64\n",
      " 4   motivo_emprestimo            28626 non-null  object \n",
      " 5   pontuacao_emprestimo         28626 non-null  object \n",
      " 6   valor_emprestimo             28626 non-null  float64\n",
      " 7   taxa_juros_emprestimo        28626 non-null  float64\n",
      " 8   status_emprestimo            28626 non-null  float64\n",
      " 9   renda_percentual_emprestimo  28626 non-null  float64\n",
      " 10  devendo                      28626 non-null  object \n",
      " 11  tempo_de_credito             28626 non-null  float64\n",
      "dtypes: float64(8), object(4)\n",
      "memory usage: 2.8+ MB\n"
     ]
    }
   ],
   "source": [
    "# Verificando o tipo de dados\n",
    "dados_tratados.info()"
   ]
  },
  {
   "cell_type": "markdown",
   "metadata": {},
   "source": [
    "Vamos alterar o tipo de dados conforme o dicionário de dados e em seguida resetar o index para ficar ordenado após a remoção dos dados"
   ]
  },
  {
   "cell_type": "markdown",
   "metadata": {},
   "source": [
    "### i) Dtype"
   ]
  },
  {
   "cell_type": "code",
   "execution_count": 25,
   "metadata": {},
   "outputs": [
    {
     "name": "stderr",
     "output_type": "stream",
     "text": [
      "C:\\Users\\reyna\\AppData\\Local\\Temp\\ipykernel_6796\\788446026.py:2: SettingWithCopyWarning: \n",
      "A value is trying to be set on a copy of a slice from a DataFrame.\n",
      "Try using .loc[row_indexer,col_indexer] = value instead\n",
      "\n",
      "See the caveats in the documentation: https://pandas.pydata.org/pandas-docs/stable/user_guide/indexing.html#returning-a-view-versus-a-copy\n",
      "  dados_tratados['idade_usuario'] = dados_tratados['idade_usuario'].astype('int64')\n",
      "C:\\Users\\reyna\\AppData\\Local\\Temp\\ipykernel_6796\\788446026.py:3: SettingWithCopyWarning: \n",
      "A value is trying to be set on a copy of a slice from a DataFrame.\n",
      "Try using .loc[row_indexer,col_indexer] = value instead\n",
      "\n",
      "See the caveats in the documentation: https://pandas.pydata.org/pandas-docs/stable/user_guide/indexing.html#returning-a-view-versus-a-copy\n",
      "  dados_tratados['tempo_de_trabalho_usuario'] = dados_tratados['tempo_de_trabalho_usuario'].astype('int64')\n",
      "C:\\Users\\reyna\\AppData\\Local\\Temp\\ipykernel_6796\\788446026.py:4: SettingWithCopyWarning: \n",
      "A value is trying to be set on a copy of a slice from a DataFrame.\n",
      "Try using .loc[row_indexer,col_indexer] = value instead\n",
      "\n",
      "See the caveats in the documentation: https://pandas.pydata.org/pandas-docs/stable/user_guide/indexing.html#returning-a-view-versus-a-copy\n",
      "  dados_tratados['status_emprestimo'] = dados_tratados['status_emprestimo'].astype('int64')\n",
      "C:\\Users\\reyna\\AppData\\Local\\Temp\\ipykernel_6796\\788446026.py:5: SettingWithCopyWarning: \n",
      "A value is trying to be set on a copy of a slice from a DataFrame.\n",
      "Try using .loc[row_indexer,col_indexer] = value instead\n",
      "\n",
      "See the caveats in the documentation: https://pandas.pydata.org/pandas-docs/stable/user_guide/indexing.html#returning-a-view-versus-a-copy\n",
      "  dados_tratados['tempo_de_credito'] = dados_tratados['tempo_de_credito'].astype('int64')\n"
     ]
    }
   ],
   "source": [
    "# Alteração do Dtype do tipo float64 para int64\n",
    "dados_tratados['idade_usuario'] = dados_tratados['idade_usuario'].astype('int64')\n",
    "dados_tratados['tempo_de_trabalho_usuario'] = dados_tratados['tempo_de_trabalho_usuario'].astype('int64')\n",
    "dados_tratados['status_emprestimo'] = dados_tratados['status_emprestimo'].astype('int64')\n",
    "dados_tratados['tempo_de_credito'] = dados_tratados['tempo_de_credito'].astype('int64')"
   ]
  },
  {
   "cell_type": "markdown",
   "metadata": {},
   "source": [
    "### ii)  Reset Index"
   ]
  },
  {
   "cell_type": "code",
   "execution_count": 26,
   "metadata": {},
   "outputs": [
    {
     "data": {
      "text/plain": [
       "RangeIndex(start=0, stop=28626, step=1)"
      ]
     },
     "execution_count": 26,
     "metadata": {},
     "output_type": "execute_result"
    }
   ],
   "source": [
    "dados_tratados.index = range(dados_tratados.shape[0])\n",
    "dados_tratados.index"
   ]
  },
  {
   "cell_type": "code",
   "execution_count": 27,
   "metadata": {},
   "outputs": [
    {
     "name": "stdout",
     "output_type": "stream",
     "text": [
      "Número de Registros Atual: 28626\n",
      "Total de Registros removidos: 5875 / Percentual: 17.028491927770208 %\n"
     ]
    }
   ],
   "source": [
    "# Imprimindo na tela informações do dataframe\n",
    "n_linha_removidas =  dados.shape[0] - dados_tratados.shape[0]\n",
    "p_linha_removidas = ((n_linha_removidas / dados.shape[0]) * 100)\n",
    "\n",
    "print(f'Número de Registros Atual: {dados_tratados.shape[0]}')\n",
    "print(f'Total de Registros removidos: {n_linha_removidas} / Percentual: {p_linha_removidas} %')"
   ]
  },
  {
   "cell_type": "markdown",
   "metadata": {},
   "source": [
    "### 2.5 EXPLORING DATA\n"
   ]
  },
  {
   "cell_type": "code",
   "execution_count": 28,
   "metadata": {},
   "outputs": [
    {
     "data": {
      "text/html": [
       "<div>\n",
       "<style scoped>\n",
       "    .dataframe tbody tr th:only-of-type {\n",
       "        vertical-align: middle;\n",
       "    }\n",
       "\n",
       "    .dataframe tbody tr th {\n",
       "        vertical-align: top;\n",
       "    }\n",
       "\n",
       "    .dataframe thead th {\n",
       "        text-align: right;\n",
       "    }\n",
       "</style>\n",
       "<table border=\"1\" class=\"dataframe\">\n",
       "  <thead>\n",
       "    <tr style=\"text-align: right;\">\n",
       "      <th></th>\n",
       "      <th>idade_usuario</th>\n",
       "      <th>salario_usuario</th>\n",
       "      <th>situacao_moradia_usuario</th>\n",
       "      <th>tempo_de_trabalho_usuario</th>\n",
       "      <th>motivo_emprestimo</th>\n",
       "      <th>pontuacao_emprestimo</th>\n",
       "      <th>valor_emprestimo</th>\n",
       "      <th>taxa_juros_emprestimo</th>\n",
       "      <th>status_emprestimo</th>\n",
       "      <th>renda_percentual_emprestimo</th>\n",
       "      <th>devendo</th>\n",
       "      <th>tempo_de_credito</th>\n",
       "    </tr>\n",
       "  </thead>\n",
       "  <tbody>\n",
       "    <tr>\n",
       "      <th>0</th>\n",
       "      <td>21</td>\n",
       "      <td>60000.0</td>\n",
       "      <td>Alugada</td>\n",
       "      <td>2</td>\n",
       "      <td>Educativo</td>\n",
       "      <td>B</td>\n",
       "      <td>8000.0</td>\n",
       "      <td>11.26</td>\n",
       "      <td>0</td>\n",
       "      <td>0.13</td>\n",
       "      <td>N</td>\n",
       "      <td>3</td>\n",
       "    </tr>\n",
       "    <tr>\n",
       "      <th>1</th>\n",
       "      <td>40</td>\n",
       "      <td>70000.0</td>\n",
       "      <td>Hipotecada</td>\n",
       "      <td>6</td>\n",
       "      <td>Educativo</td>\n",
       "      <td>A</td>\n",
       "      <td>18000.0</td>\n",
       "      <td>7.90</td>\n",
       "      <td>0</td>\n",
       "      <td>0.26</td>\n",
       "      <td>N</td>\n",
       "      <td>14</td>\n",
       "    </tr>\n",
       "    <tr>\n",
       "      <th>2</th>\n",
       "      <td>29</td>\n",
       "      <td>115000.0</td>\n",
       "      <td>Hipotecada</td>\n",
       "      <td>3</td>\n",
       "      <td>Medico</td>\n",
       "      <td>C</td>\n",
       "      <td>22000.0</td>\n",
       "      <td>15.23</td>\n",
       "      <td>0</td>\n",
       "      <td>0.19</td>\n",
       "      <td>Y</td>\n",
       "      <td>7</td>\n",
       "    </tr>\n",
       "    <tr>\n",
       "      <th>3</th>\n",
       "      <td>26</td>\n",
       "      <td>84996.0</td>\n",
       "      <td>Alugada</td>\n",
       "      <td>0</td>\n",
       "      <td>Medico</td>\n",
       "      <td>B</td>\n",
       "      <td>9000.0</td>\n",
       "      <td>11.26</td>\n",
       "      <td>0</td>\n",
       "      <td>0.11</td>\n",
       "      <td>N</td>\n",
       "      <td>2</td>\n",
       "    </tr>\n",
       "    <tr>\n",
       "      <th>4</th>\n",
       "      <td>23</td>\n",
       "      <td>24000.0</td>\n",
       "      <td>Propria</td>\n",
       "      <td>7</td>\n",
       "      <td>Educativo</td>\n",
       "      <td>A</td>\n",
       "      <td>5000.0</td>\n",
       "      <td>7.49</td>\n",
       "      <td>0</td>\n",
       "      <td>0.21</td>\n",
       "      <td>N</td>\n",
       "      <td>2</td>\n",
       "    </tr>\n",
       "  </tbody>\n",
       "</table>\n",
       "</div>"
      ],
      "text/plain": [
       "   idade_usuario  salario_usuario situacao_moradia_usuario  \\\n",
       "0             21          60000.0                  Alugada   \n",
       "1             40          70000.0               Hipotecada   \n",
       "2             29         115000.0               Hipotecada   \n",
       "3             26          84996.0                  Alugada   \n",
       "4             23          24000.0                  Propria   \n",
       "\n",
       "   tempo_de_trabalho_usuario motivo_emprestimo pontuacao_emprestimo  \\\n",
       "0                          2         Educativo                    B   \n",
       "1                          6         Educativo                    A   \n",
       "2                          3            Medico                    C   \n",
       "3                          0            Medico                    B   \n",
       "4                          7         Educativo                    A   \n",
       "\n",
       "   valor_emprestimo  taxa_juros_emprestimo  status_emprestimo  \\\n",
       "0            8000.0                  11.26                  0   \n",
       "1           18000.0                   7.90                  0   \n",
       "2           22000.0                  15.23                  0   \n",
       "3            9000.0                  11.26                  0   \n",
       "4            5000.0                   7.49                  0   \n",
       "\n",
       "   renda_percentual_emprestimo devendo  tempo_de_credito  \n",
       "0                         0.13       N                 3  \n",
       "1                         0.26       N                14  \n",
       "2                         0.19       Y                 7  \n",
       "3                         0.11       N                 2  \n",
       "4                         0.21       N                 2  "
      ]
     },
     "execution_count": 28,
     "metadata": {},
     "output_type": "execute_result"
    }
   ],
   "source": [
    "# Visualizando os dados\n",
    "dados_tratados.head()"
   ]
  },
  {
   "cell_type": "code",
   "execution_count": 29,
   "metadata": {},
   "outputs": [
    {
     "name": "stdout",
     "output_type": "stream",
     "text": [
      "A Taxa de Pessoas com histórico de inadimplência é de 17.82%\n"
     ]
    }
   ],
   "source": [
    "# Verificando a taxa de inadimplentes\n",
    "inadimplentes_perc = dados_tratados['devendo'].value_counts(normalize= True)\n",
    "print(f'A Taxa de Pessoas com histórico de inadimplência é de {(inadimplentes_perc[1] * 100).round(2)}%')"
   ]
  },
  {
   "cell_type": "code",
   "execution_count": 40,
   "metadata": {},
   "outputs": [
    {
     "data": {
      "text/html": [
       "<div>\n",
       "<style scoped>\n",
       "    .dataframe tbody tr th:only-of-type {\n",
       "        vertical-align: middle;\n",
       "    }\n",
       "\n",
       "    .dataframe tbody tr th {\n",
       "        vertical-align: top;\n",
       "    }\n",
       "\n",
       "    .dataframe thead th {\n",
       "        text-align: right;\n",
       "    }\n",
       "</style>\n",
       "<table border=\"1\" class=\"dataframe\">\n",
       "  <thead>\n",
       "    <tr style=\"text-align: right;\">\n",
       "      <th></th>\n",
       "      <th>idade_usuario</th>\n",
       "      <th>salario_usuario</th>\n",
       "      <th>tempo_de_trabalho_usuario</th>\n",
       "      <th>valor_emprestimo</th>\n",
       "      <th>taxa_juros_emprestimo</th>\n",
       "      <th>status_emprestimo</th>\n",
       "      <th>renda_percentual_emprestimo</th>\n",
       "      <th>tempo_de_credito</th>\n",
       "    </tr>\n",
       "  </thead>\n",
       "  <tbody>\n",
       "    <tr>\n",
       "      <th>idade_usuario</th>\n",
       "      <td>1.000000</td>\n",
       "      <td>0.137346</td>\n",
       "      <td>0.175694</td>\n",
       "      <td>0.056147</td>\n",
       "      <td>0.010458</td>\n",
       "      <td>-0.022229</td>\n",
       "      <td>-0.038668</td>\n",
       "      <td>0.877345</td>\n",
       "    </tr>\n",
       "    <tr>\n",
       "      <th>salario_usuario</th>\n",
       "      <td>0.137346</td>\n",
       "      <td>1.000000</td>\n",
       "      <td>0.172787</td>\n",
       "      <td>0.357035</td>\n",
       "      <td>-0.001748</td>\n",
       "      <td>-0.180029</td>\n",
       "      <td>-0.316936</td>\n",
       "      <td>0.117377</td>\n",
       "    </tr>\n",
       "    <tr>\n",
       "      <th>tempo_de_trabalho_usuario</th>\n",
       "      <td>0.175694</td>\n",
       "      <td>0.172787</td>\n",
       "      <td>1.000000</td>\n",
       "      <td>0.108421</td>\n",
       "      <td>-0.058183</td>\n",
       "      <td>-0.086433</td>\n",
       "      <td>-0.059905</td>\n",
       "      <td>0.151175</td>\n",
       "    </tr>\n",
       "    <tr>\n",
       "      <th>valor_emprestimo</th>\n",
       "      <td>0.056147</td>\n",
       "      <td>0.357035</td>\n",
       "      <td>0.108421</td>\n",
       "      <td>1.000000</td>\n",
       "      <td>0.145882</td>\n",
       "      <td>0.113360</td>\n",
       "      <td>0.577326</td>\n",
       "      <td>0.045640</td>\n",
       "    </tr>\n",
       "    <tr>\n",
       "      <th>taxa_juros_emprestimo</th>\n",
       "      <td>0.010458</td>\n",
       "      <td>-0.001748</td>\n",
       "      <td>-0.058183</td>\n",
       "      <td>0.145882</td>\n",
       "      <td>1.000000</td>\n",
       "      <td>0.339297</td>\n",
       "      <td>0.123271</td>\n",
       "      <td>0.015379</td>\n",
       "    </tr>\n",
       "    <tr>\n",
       "      <th>status_emprestimo</th>\n",
       "      <td>-0.022229</td>\n",
       "      <td>-0.180029</td>\n",
       "      <td>-0.086433</td>\n",
       "      <td>0.113360</td>\n",
       "      <td>0.339297</td>\n",
       "      <td>1.000000</td>\n",
       "      <td>0.379469</td>\n",
       "      <td>-0.015312</td>\n",
       "    </tr>\n",
       "    <tr>\n",
       "      <th>renda_percentual_emprestimo</th>\n",
       "      <td>-0.038668</td>\n",
       "      <td>-0.316936</td>\n",
       "      <td>-0.059905</td>\n",
       "      <td>0.577326</td>\n",
       "      <td>0.123271</td>\n",
       "      <td>0.379469</td>\n",
       "      <td>1.000000</td>\n",
       "      <td>-0.029031</td>\n",
       "    </tr>\n",
       "    <tr>\n",
       "      <th>tempo_de_credito</th>\n",
       "      <td>0.877345</td>\n",
       "      <td>0.117377</td>\n",
       "      <td>0.151175</td>\n",
       "      <td>0.045640</td>\n",
       "      <td>0.015379</td>\n",
       "      <td>-0.015312</td>\n",
       "      <td>-0.029031</td>\n",
       "      <td>1.000000</td>\n",
       "    </tr>\n",
       "  </tbody>\n",
       "</table>\n",
       "</div>"
      ],
      "text/plain": [
       "                             idade_usuario  salario_usuario  \\\n",
       "idade_usuario                     1.000000         0.137346   \n",
       "salario_usuario                   0.137346         1.000000   \n",
       "tempo_de_trabalho_usuario         0.175694         0.172787   \n",
       "valor_emprestimo                  0.056147         0.357035   \n",
       "taxa_juros_emprestimo             0.010458        -0.001748   \n",
       "status_emprestimo                -0.022229        -0.180029   \n",
       "renda_percentual_emprestimo      -0.038668        -0.316936   \n",
       "tempo_de_credito                  0.877345         0.117377   \n",
       "\n",
       "                             tempo_de_trabalho_usuario  valor_emprestimo  \\\n",
       "idade_usuario                                 0.175694          0.056147   \n",
       "salario_usuario                               0.172787          0.357035   \n",
       "tempo_de_trabalho_usuario                     1.000000          0.108421   \n",
       "valor_emprestimo                              0.108421          1.000000   \n",
       "taxa_juros_emprestimo                        -0.058183          0.145882   \n",
       "status_emprestimo                            -0.086433          0.113360   \n",
       "renda_percentual_emprestimo                  -0.059905          0.577326   \n",
       "tempo_de_credito                              0.151175          0.045640   \n",
       "\n",
       "                             taxa_juros_emprestimo  status_emprestimo  \\\n",
       "idade_usuario                             0.010458          -0.022229   \n",
       "salario_usuario                          -0.001748          -0.180029   \n",
       "tempo_de_trabalho_usuario                -0.058183          -0.086433   \n",
       "valor_emprestimo                          0.145882           0.113360   \n",
       "taxa_juros_emprestimo                     1.000000           0.339297   \n",
       "status_emprestimo                         0.339297           1.000000   \n",
       "renda_percentual_emprestimo               0.123271           0.379469   \n",
       "tempo_de_credito                          0.015379          -0.015312   \n",
       "\n",
       "                             renda_percentual_emprestimo  tempo_de_credito  \n",
       "idade_usuario                                  -0.038668          0.877345  \n",
       "salario_usuario                                -0.316936          0.117377  \n",
       "tempo_de_trabalho_usuario                      -0.059905          0.151175  \n",
       "valor_emprestimo                                0.577326          0.045640  \n",
       "taxa_juros_emprestimo                           0.123271          0.015379  \n",
       "status_emprestimo                               0.379469         -0.015312  \n",
       "renda_percentual_emprestimo                     1.000000         -0.029031  \n",
       "tempo_de_credito                               -0.029031          1.000000  "
      ]
     },
     "execution_count": 40,
     "metadata": {},
     "output_type": "execute_result"
    }
   ],
   "source": [
    "dados_tratados.corr()"
   ]
  },
  {
   "cell_type": "code",
   "execution_count": 41,
   "metadata": {},
   "outputs": [
    {
     "data": {
      "text/plain": [
       "<AxesSubplot:xlabel='salario_usuario', ylabel='status_emprestimo'>"
      ]
     },
     "execution_count": 41,
     "metadata": {},
     "output_type": "execute_result"
    },
    {
     "data": {
      "image/png": "[encoded data removed]",
      "text/plain": [
       "<Figure size 1200x600 with 1 Axes>"
      ]
     },
     "metadata": {},
     "output_type": "display_data"
    }
   ],
   "source": [
    "sns.boxplot(data = dados_tratados, y = 'status_emprestimo', x= 'salario_usuario', orient= 'h'  )"
   ]
  },
  {
   "cell_type": "markdown",
   "metadata": {},
   "source": [
    "### Verificando a distribuição do valor de emprestimo"
   ]
  },
  {
   "cell_type": "code",
   "execution_count": 35,
   "metadata": {},
   "outputs": [
    {
     "data": {
      "image/png": "[encoded data removed]",
      "text/plain": [
       "<Figure size 1200x600 with 1 Axes>"
      ]
     },
     "metadata": {},
     "output_type": "display_data"
    }
   ],
   "source": [
    "# Olhando a distribuição do valor de emprestimo com um histograma\n",
    "n, bins, patches = plt.hist(x=dados_tratados['valor_emprestimo'], bins='auto', color='blue',alpha=0.7, rwidth=0.85)\n",
    "plt.xlabel(\"Valor Total do Emprestimo\")\n",
    "plt.show()"
   ]
  },
  {
   "cell_type": "markdown",
   "metadata": {},
   "source": [
    "### Plotando um Scatter Plot \n",
    "Verificando a relação entre a variável independente (`idade_usuario`) e a variável dependente (`salario_usuario`)."
   ]
  },
  {
   "cell_type": "code",
   "execution_count": 36,
   "metadata": {},
   "outputs": [
    {
     "data": {
      "image/png": "[encoded data removed]",
      "text/plain": [
       "<Figure size 1200x600 with 1 Axes>"
      ]
     },
     "metadata": {},
     "output_type": "display_data"
    }
   ],
   "source": [
    "# Plotando um gráfico de dispersão entre a idade e o salário do usuário\n",
    "plt.scatter(x = dados_tratados['salario_usuario'], y = dados_tratados['idade_usuario'], c ='blue', alpha = 0.5)\n",
    "plt.xlabel('Salário do Usuário')\n",
    "plt.ylabel('Idade do Usuário')\n",
    "plt.show()"
   ]
  },
  {
   "cell_type": "markdown",
   "metadata": {},
   "source": [
    "Já podemos ver uma correlação positiva com idade e renda, o que pode significar que essas pessoas mais velhos estão mais avançados em suas carreiras e, portanto, ganham salários mais altos. Também é possível identificar a presença de ***outiliers.***"
   ]
  },
  {
   "cell_type": "markdown",
   "metadata": {},
   "source": [
    "### Análise Exploratória com Tabela Cruzada\n",
    "\n",
    "Dados Financeiros geralmente são visualizados em formato de tabelas parecidos com planilhas em excel, sendo assim, vamos usar o método  pd.crosstab() para visualizar melhor.\n",
    "\n",
    "Para a maioria dos modelos de risco de crédito, especialmente para probabilidade de inadimplência, colunas como `tempo_de_trabalho_usuario` e `moradia_usuario` são comuns para começar a investigar.\n",
    "\n",
    "Você poderá ver como os valores são preenchidos nos dados e visualizá-los. Por enquanto, você precisa verificar como o \"status_do_emprestimo\" é afetado por fatores como o status da moradiaa, o grau do empréstimo e a porcentagem da renda do empréstimo."
   ]
  },
  {
   "cell_type": "code",
   "execution_count": null,
   "metadata": {},
   "outputs": [],
   "source": [
    "pd.crosstab(index=dados['situacao_moradia_usuario'], columns= dados['status_emprestimo'],\n",
    "            values=dados['taxa_juros_emprestimo'], aggfunc='mean').round(2)"
   ]
  },
  {
   "cell_type": "code",
   "execution_count": null,
   "metadata": {},
   "outputs": [],
   "source": [
    "pd.crosstab(index= dados['motivo_emprestimo'], columns= dados['status_emprestimo'], margins = True)"
   ]
  },
  {
   "cell_type": "code",
   "execution_count": null,
   "metadata": {},
   "outputs": [],
   "source": [
    "pd.crosstab(index= dados['situacao_moradia_usuario'], columns= dados['status_emprestimo'],\n",
    "              values=dados['renda_percentual_emprestimo'], aggfunc='mean')"
   ]
  },
  {
   "cell_type": "code",
   "execution_count": 43,
   "metadata": {},
   "outputs": [
    {
     "data": {
      "image/png": "[encoded data removed]",
      "text/plain": [
       "<Figure size 1200x600 with 1 Axes>"
      ]
     },
     "metadata": {},
     "output_type": "display_data"
    }
   ],
   "source": [
    "# Box Plot da Renda Percentual Média por Status do Empréstimo\n",
    "dados_tratados.boxplot(column = ['renda_percentual_emprestimo'], by = 'status_emprestimo')\n",
    "plt.title('Renda Percentual Média por Status do Empréstimo')\n",
    "plt.suptitle('')\n",
    "plt.show()"
   ]
  },
  {
   "cell_type": "markdown",
   "metadata": {},
   "source": [
    "A porcentagem média de renda para inadimplentes (=1) é maior do que os adimplentes. Isso pode indicar que essas pessoas têm uma relação dívida/renda que já é muito alta."
   ]
  }
 ],
 "metadata": {
  "kernelspec": {
   "display_name": "Python 3 (ipykernel)",
   "language": "python",
   "name": "python3"
  },
  "language_info": {
   "codemirror_mode": {
    "name": "ipython",
    "version": 3
   },
   "file_extension": ".py",
   "mimetype": "text/x-python",
   "name": "python",
   "nbconvert_exporter": "python",
   "pygments_lexer": "ipython3",
   "version": "3.9.13"
  },
  "vscode": {
   "interpreter": {
    "hash": "c261aea317cc0286b3b3261fbba9abdec21eaa57589985bb7a274bf54d6cc0a7"
   }
  }
 },
 "nbformat": 4,
 "nbformat_minor": 2
}
